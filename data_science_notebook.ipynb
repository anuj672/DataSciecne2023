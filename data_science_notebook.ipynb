{
  "nbformat": 4,
  "nbformat_minor": 0,
  "metadata": {
    "colab": {
      "provenance": [],
      "toc_visible": true,
      "authorship_tag": "ABX9TyNNkum1XOS3//kBwdx8gdqd",
      "include_colab_link": true
    },
    "kernelspec": {
      "name": "python3",
      "display_name": "Python 3"
    },
    "language_info": {
      "name": "python"
    }
  },
  "cells": [
    {
      "cell_type": "markdown",
      "metadata": {
        "id": "view-in-github",
        "colab_type": "text"
      },
      "source": [
        "<a href=\"https://colab.research.google.com/github/anuj672/DataSciecne2023/blob/main/data_science_notebook.ipynb\" target=\"_parent\"><img src=\"https://colab.research.google.com/assets/colab-badge.svg\" alt=\"Open In Colab\"/></a>"
      ]
    },
    {
      "cell_type": "markdown",
      "source": [
        "#INGEST"
      ],
      "metadata": {
        "id": "ygiBzzGU8TIa"
      }
    },
    {
      "cell_type": "code",
      "source": [],
      "metadata": {
        "id": "SzPeTChZ8aWJ"
      },
      "execution_count": null,
      "outputs": []
    },
    {
      "cell_type": "markdown",
      "source": [
        "#EDA"
      ],
      "metadata": {
        "id": "NREByK8h8bJh"
      }
    },
    {
      "cell_type": "code",
      "source": [],
      "metadata": {
        "id": "7PhpVlLw8fUw"
      },
      "execution_count": null,
      "outputs": []
    },
    {
      "cell_type": "markdown",
      "source": [
        "#Modelling"
      ],
      "metadata": {
        "id": "eTBnURUv8uv5"
      }
    },
    {
      "cell_type": "markdown",
      "source": [
        "algo 1"
      ],
      "metadata": {
        "id": "Oxi-Rrpr8_Aj"
      }
    },
    {
      "cell_type": "code",
      "source": [],
      "metadata": {
        "id": "VeSCerfG9P_-"
      },
      "execution_count": null,
      "outputs": []
    },
    {
      "cell_type": "markdown",
      "source": [
        "# Conclusion"
      ],
      "metadata": {
        "id": "8_4wBU_r9fUA"
      }
    },
    {
      "cell_type": "code",
      "source": [],
      "metadata": {
        "id": "E8srEuWX9kUL"
      },
      "execution_count": null,
      "outputs": []
    }
  ]
}